{
 "cells": [
  {
   "cell_type": "code",
   "execution_count": 1,
   "metadata": {
    "collapsed": true
   },
   "outputs": [],
   "source": [
    "import numpy as np\n",
    "import matplotlib.pyplot as plt"
   ]
  },
  {
   "cell_type": "code",
   "execution_count": 2,
   "metadata": {
    "collapsed": false
   },
   "outputs": [],
   "source": [
    "Nclass = 500\n",
    "X1 = np.random.randn(Nclass, 2) + np.array([0, -2])\n",
    "X2 = np.random.randn(Nclass, 2) + np.array([2, 2])\n",
    "X3 = np.random.randn(Nclass, 2) + np.array([-2, 2])\n",
    "X = np.vstack([X1, X2, X3])\n",
    "Y = np.array([0] * Nclass + [1] * Nclass + [2] * Nclass)"
   ]
  },
  {
   "cell_type": "code",
   "execution_count": 3,
   "metadata": {
    "collapsed": false
   },
   "outputs": [],
   "source": [
    "#plt.scatter(X[:,0], X[:,1], c = Y, s = 100, alpha = 0.5)\n",
    "#plt.show()\n",
    "D = 2\n",
    "M = 3\n",
    "K = 3\n",
    "\n",
    "W1 = np.random.randn(D, M)\n",
    "b1 = np.random.randn(M)\n",
    "W2 = np.random.randn(M, K)\n",
    "b2 = np.random.randn(K)"
   ]
  },
  {
   "cell_type": "code",
   "execution_count": 4,
   "metadata": {
    "collapsed": true
   },
   "outputs": [],
   "source": [
    "def forward(X, W1, b1, W2, b2):\n",
    "    Z = 1 /(1+ np.exp(-X.dot(W1) - b1))\n",
    "    A = Z.dot(W2) + b2\n",
    "    expA = np.exp(A)\n",
    "    Y = expA / expA.sum(axis = 1, keepdims = True)\n",
    "    return Y"
   ]
  },
  {
   "cell_type": "code",
   "execution_count": 5,
   "metadata": {
    "collapsed": false
   },
   "outputs": [
    {
     "name": "stdout",
     "output_type": "stream",
     "text": [
      "Classification rate : 0.0293333333333\n"
     ]
    }
   ],
   "source": [
    "def classification_rate(Y, P):\n",
    "    n_correct = 0\n",
    "    n_total = 0\n",
    "    for i in xrange(len(Y)):\n",
    "        n_total +=1\n",
    "        if (P[i] == Y[i]):\n",
    "            n_correct +=1\n",
    "        \n",
    "    return float(n_correct) / n_total\n",
    "\n",
    "P_Y_given_X = forward(X, W1, b1, W2, b2)\n",
    "P = np.argmax(P_Y_given_X, axis = 1)\n",
    "rate = classification_rate(Y, P)\n",
    "print \"Classification rate :\", rate"
   ]
  }
 ],
 "metadata": {
  "kernelspec": {
   "display_name": "Python 2",
   "language": "python",
   "name": "python2"
  },
  "language_info": {
   "codemirror_mode": {
    "name": "ipython",
    "version": 2
   },
   "file_extension": ".py",
   "mimetype": "text/x-python",
   "name": "python",
   "nbconvert_exporter": "python",
   "pygments_lexer": "ipython2",
   "version": "2.7.10"
  }
 },
 "nbformat": 4,
 "nbformat_minor": 2
}
