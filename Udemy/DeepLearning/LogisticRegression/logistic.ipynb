{
 "cells": [
  {
   "cell_type": "code",
   "execution_count": null,
   "metadata": {
    "collapsed": true
   },
   "outputs": [],
   "source": [
    "import numpy as np\n",
    "import pandas as pd"
   ]
  },
  {
   "cell_type": "code",
   "execution_count": 2,
   "metadata": {
    "collapsed": false
   },
   "outputs": [],
   "source": [
    "N = 5\n",
    "D = 2\n",
    "\n",
    "X = np.random.randn(N, D)\n",
    "ones = np.array([[1] * N]).T\n",
    "Xb = np.concatenate((ones, X), axis=1)\n",
    "\n",
    "W = np.random.randn(D + 1)\n",
    "\n",
    "Z = Xb.dot(W)"
   ]
  },
  {
   "cell_type": "code",
   "execution_count": 3,
   "metadata": {
    "collapsed": false
   },
   "outputs": [],
   "source": [
    "def sigmoid(z):\n",
    "    return (1/(1+ np.exp(-z)))\n",
    "\n",
    "## sigmoid(Z)"
   ]
  },
  {
   "cell_type": "code",
   "execution_count": 4,
   "metadata": {
    "collapsed": false
   },
   "outputs": [],
   "source": [
    "def get_data():\n",
    "    df = pd.read_csv('ecommerce_data.csv')\n",
    "    data = df.as_matrix()\n",
    "    print df.head()\n",
    "    X = data[:, : -1]\n",
    "    Y = data[:, -1] \n",
    "    \n",
    "    X[:, 1] = (X[:,1] - X[:,1].mean()) / X[:,1].std()\n",
    "    X[:, 2] = (X[:,2] - X[:,2].mean()) / X[:,2].std()\n",
    "    \n",
    "    N, D = X.shape\n",
    "    X2 = np.zeros((N, D+3))\n",
    "    X2[:, : D-1] = X[:, : D-1]\n",
    "    \n",
    "    for n in xrange(N):\n",
    "        t = X[n, D-1]\n",
    "        X2[n, t+ D-1] = 1\n",
    "    \n",
    "    #print X2\n",
    "    \n",
    "    Z = np.zeros((N, 4))\n",
    "    Z[np.arange(N), X[:, D-1].astype(np.int32)] = 1\n",
    "    #print Z\n",
    "    \n",
    "    assert(np.abs(X2[:, -4:] - Z).sum() < 10e-10)\n",
    "    return X2, Y\n",
    "\n",
    "def get_binary_data():\n",
    "    X, Y = get_data()\n",
    "    X2 = X[Y <= 1]\n",
    "    Y2 = Y[Y <= 1]\n",
    "    return X2, Y2"
   ]
  },
  {
   "cell_type": "code",
   "execution_count": 5,
   "metadata": {
    "collapsed": false
   },
   "outputs": [
    {
     "name": "stdout",
     "output_type": "stream",
     "text": [
      "   is_mobile  n_products_viewed  visit_duration  is_returning_visitor  \\\n",
      "0          1                  0        0.657510                     0   \n",
      "1          1                  1        0.568571                     0   \n",
      "2          1                  0        0.042246                     1   \n",
      "3          1                  1        1.659793                     1   \n",
      "4          0                  1        2.014745                     1   \n",
      "\n",
      "   time_of_day  user_action  \n",
      "0            3            0  \n",
      "1            2            1  \n",
      "2            1            0  \n",
      "3            1            2  \n",
      "4            1            2  \n",
      "Weights are : 8\n",
      "[False  True  True  True False False False False False  True False  True\n",
      " False False False False False False  True  True False False False False\n",
      " False False False False False  True False  True False  True  True  True\n",
      "  True  True  True False  True  True  True False False False False False\n",
      "  True  True False False False False  True False False  True False  True\n",
      " False False  True False False False False False False  True False  True\n",
      "  True False False False False False  True False  True  True False  True\n",
      " False  True  True  True False False False  True False  True False False\n",
      "  True False False  True False False False  True False False False  True\n",
      " False  True  True  True  True  True  True  True  True  True  True  True\n",
      "  True  True False  True  True  True  True  True  True  True  True  True\n",
      "  True False  True False  True False False  True  True  True False  True\n",
      " False False  True False  True  True False  True  True  True False  True\n",
      "  True False  True False False False  True  True  True  True  True False\n",
      " False  True  True  True  True  True False False  True False  True False\n",
      " False False False  True False  True  True False  True False False  True\n",
      "  True False False False  True  True  True  True False False  True False\n",
      " False  True  True False  True False False  True False  True  True  True\n",
      "  True False False  True  True False False  True False  True  True  True\n",
      "  True  True False  True False False False  True False False False  True\n",
      " False  True False  True  True  True False  True False  True  True False\n",
      " False  True False False False False False False False False  True False\n",
      " False  True  True False  True False False  True False  True False  True\n",
      " False  True  True False  True  True False False False False  True False\n",
      "  True  True  True  True  True False  True False False  True False  True\n",
      "  True False False  True  True False  True False  True False False  True\n",
      "  True False False False  True  True False False False False False False\n",
      " False False  True  True False False False  True  True  True False False\n",
      " False False False  True  True  True False False False  True  True False\n",
      " False False  True False  True False  True  True  True False False False\n",
      " False  True False  True False  True  True  True False False False  True\n",
      " False  True False False False False  True False  True False False False\n",
      " False False  True  True False False  True False False  True  True False\n",
      " False  True]\n",
      "0.469849246231\n"
     ]
    },
    {
     "name": "stderr",
     "output_type": "stream",
     "text": [
      "/Library/Python/2.7/site-packages/ipykernel/__main__.py:17: VisibleDeprecationWarning: using a non-integer number instead of an integer will result in an error in the future\n"
     ]
    }
   ],
   "source": [
    "X, Y = get_binary_data()\n",
    "D = X.shape[1]\n",
    "print \"Weights are : %d\" %D\n",
    "W = np.random.randn(D)\n",
    "b = 0\n",
    "\n",
    "def forward(X, W, b):\n",
    "    return sigmoid(np.dot(X, W) + b)\n",
    "\n",
    "P_Y_givenX = forward(X, W, b)\n",
    "\n",
    "round_pred = np.round(P_Y_givenX)\n",
    "\n",
    "print Y == round_pred\n",
    "def classifier_rate(Y, P):\n",
    "    return np.mean(Y == P)\n",
    "\n",
    "print classifier_rate(Y, round_pred)"
   ]
  },
  {
   "cell_type": "code",
   "execution_count": 6,
   "metadata": {
    "collapsed": false
   },
   "outputs": [],
   "source": [
    "def cross_entropy_total_error(T, Y):\n",
    "    error = 0\n",
    "    N = T.shape[0]\n",
    "    for i in xrange(N):\n",
    "        if (T[i] == 1):\n",
    "            error -= T[i] * np.log(Y[i])\n",
    "        else:\n",
    "            error -= (1- T[i]) * np.log(1- Y[i])\n",
    "    return error"
   ]
  },
  {
   "cell_type": "code",
   "execution_count": 7,
   "metadata": {
    "collapsed": false
   },
   "outputs": [
    {
     "name": "stdout",
     "output_type": "stream",
     "text": [
      "11.5948976096\n"
     ]
    }
   ],
   "source": [
    "## Comput Cross- Entropy cost\n",
    "N = 100\n",
    "D = 2\n",
    "\n",
    "X = np.random.randn(N, D)\n",
    "X[: 50, :] = X[: 50, :] - 2 * np.ones((50, D))\n",
    "X[50: , :] = X[50: , :] + 2 * np.ones((50, D))\n",
    "\n",
    "T = np.array([1] * 50 + [0] * 50)\n",
    "ones = np.array([[1] * N]).T\n",
    "\n",
    "Xb = np.concatenate((ones, X), axis=1)\n",
    "\n",
    "W = np.random.randn(D + 1)\n",
    "\n",
    "Z = Xb.dot(W)\n",
    "\n",
    "Y = sigmoid(Z)\n",
    "\n",
    "print cross_entropy_total_error(T, Y)"
   ]
  },
  {
   "cell_type": "code",
   "execution_count": 8,
   "metadata": {
    "collapsed": false
   },
   "outputs": [
    {
     "data": {
      "text/plain": [
       "[<matplotlib.lines.Line2D at 0x1063108d0>]"
      ]
     },
     "execution_count": 8,
     "metadata": {},
     "output_type": "execute_result"
    }
   ],
   "source": [
    "# Visualize the data\n",
    "import matplotlib.pyplot as plt\n",
    "\n",
    "plt.scatter(X[:, 0], X[:, 1], c=T, s=50, alpha = 0.5)\n",
    "x_axis = np.linspace(-6, 6, 200)\n",
    "y_axis = x_axis\n",
    "plt.plot(x_axis, y_axis)\n",
    "#plt.show()"
   ]
  },
  {
   "cell_type": "code",
   "execution_count": 9,
   "metadata": {
    "collapsed": false
   },
   "outputs": [
    {
     "name": "stdout",
     "output_type": "stream",
     "text": [
      "11.5948976096\n",
      "[-0.59886753 -0.52596294 -0.75809791]\n",
      "inf\n",
      "[  -0.57425081  127.52894875  125.44852899]\n",
      "inf\n",
      "[  -0.20022888  179.82902822  177.17889253]\n",
      "inf\n",
      "[ -6.98154929e-02   1.98064938e+02   1.95216155e+02]\n",
      "inf\n",
      "[ -2.43431572e-02   2.04423407e+02   2.01505360e+02]\n",
      "inf\n",
      "[ -8.48793407e-03   2.06640468e+02   2.03698270e+02]\n",
      "inf\n",
      "[ -2.95955961e-03   2.07413509e+02   2.04462890e+02]\n",
      "inf\n",
      "[ -1.03193463e-03   2.07683052e+02   2.04729497e+02]\n",
      "inf\n",
      "[ -3.59813356e-04   2.07777036e+02   2.04822457e+02]\n",
      "inf\n",
      "[ -1.25459160e-04   2.07809806e+02   2.04854870e+02]\n",
      "Final W:  [ -4.37449042e-05   2.07821232e+02   2.04866172e+02]\n"
     ]
    },
    {
     "name": "stderr",
     "output_type": "stream",
     "text": [
      "/Library/Python/2.7/site-packages/ipykernel/__main__.py:8: RuntimeWarning: divide by zero encountered in log\n",
      "/Library/Python/2.7/site-packages/ipykernel/__main__.py:2: RuntimeWarning: overflow encountered in exp\n",
      "  from ipykernel import kernelapp as app\n",
      "/Library/Python/2.7/site-packages/ipykernel/__main__.py:6: RuntimeWarning: divide by zero encountered in log\n"
     ]
    }
   ],
   "source": [
    "learning_rate = 0.1\n",
    "reg_lambda = 0.1\n",
    "for i in xrange(100):\n",
    "    error = cross_entropy_total_error(T, Y)\n",
    "    if (i%10 == 0):\n",
    "        print error\n",
    "        print W\n",
    "    \n",
    "    W += learning_rate * Xb.T.dot(Y - T) - reg_lambda * W\n",
    "    Z = Xb.dot(W)\n",
    "    Y = sigmoid(Z)\n",
    "    \n",
    "print \"Final W: \", W"
   ]
  }
 ],
 "metadata": {
  "kernelspec": {
   "display_name": "Python 2",
   "language": "python",
   "name": "python2"
  },
  "language_info": {
   "codemirror_mode": {
    "name": "ipython",
    "version": 2.0
   },
   "file_extension": ".py",
   "mimetype": "text/x-python",
   "name": "python",
   "nbconvert_exporter": "python",
   "pygments_lexer": "ipython2",
   "version": "2.7.10"
  }
 },
 "nbformat": 4,
 "nbformat_minor": 0
}