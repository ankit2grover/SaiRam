{
 "cells": [
  {
   "cell_type": "code",
   "execution_count": 1,
   "metadata": {
    "collapsed": true
   },
   "outputs": [],
   "source": [
    "import numpy as np\n",
    "import pandas as pd"
   ]
  },
  {
   "cell_type": "code",
   "execution_count": 2,
   "metadata": {
    "collapsed": false
   },
   "outputs": [],
   "source": [
    "N = 5\n",
    "D = 2\n",
    "\n",
    "X = np.random.randn(N, D)\n",
    "ones = np.array([[1] * N]).T\n",
    "Xb = np.concatenate((ones, X), axis=1)\n",
    "\n",
    "W = np.random.randn(D + 1)\n",
    "\n",
    "Z = Xb.dot(W)\n"
   ]
  },
  {
   "cell_type": "code",
   "execution_count": 3,
   "metadata": {
    "collapsed": false
   },
   "outputs": [],
   "source": [
    "def sigmoid(z):\n",
    "    return 1/(1+ np.exp(-z))\n",
    "\n",
    "## sigmoid(Z)"
   ]
  },
  {
   "cell_type": "code",
   "execution_count": 4,
   "metadata": {
    "collapsed": false
   },
   "outputs": [
    {
     "name": "stdout",
     "output_type": "stream",
     "text": [
      "   is_mobile  n_products_viewed  visit_duration  is_returning_visitor  \\\n",
      "0          1                  0        0.657510                     0   \n",
      "1          1                  1        0.568571                     0   \n",
      "2          1                  0        0.042246                     1   \n",
      "3          1                  1        1.659793                     1   \n",
      "4          0                  1        2.014745                     1   \n",
      "\n",
      "   time_of_day  user_action  \n",
      "0            3            0  \n",
      "1            2            1  \n",
      "2            1            0  \n",
      "3            1            2  \n",
      "4            1            2  \n",
      "\n",
      "[[ 1.         -0.81697841 -0.40827769 ...,  0.          0.          1.        ]\n",
      " [ 1.          0.13967078 -0.4994283  ...,  0.          1.          0.        ]\n",
      " [ 1.         -0.81697841 -1.03884323 ...,  1.          0.          0.        ]\n",
      " ..., \n",
      " [ 0.         -0.81697841 -0.90498762 ...,  0.          0.          1.        ]\n",
      " [ 1.         -0.81697841 -0.86695367 ...,  0.          0.          1.        ]\n",
      " [ 0.         -0.81697841  1.59982383 ...,  0.          0.          1.        ]]\n",
      "[[ 0.  0.  0.  1.]\n",
      " [ 0.  0.  1.  0.]\n",
      " [ 0.  1.  0.  0.]\n",
      " ..., \n",
      " [ 0.  0.  0.  1.]\n",
      " [ 0.  0.  0.  1.]\n",
      " [ 0.  0.  0.  1.]]\n"
     ]
    },
    {
     "name": "stderr",
     "output_type": "stream",
     "text": [
      "/Library/Python/2.7/site-packages/ipykernel/__main__.py:18: VisibleDeprecationWarning: using a non-integer number instead of an integer will result in an error in the future\n"
     ]
    },
    {
     "data": {
      "text/plain": [
       "(array([[ 1.        , -0.81697841, -0.40827769, ...,  0.        ,\n",
       "          0.        ,  1.        ],\n",
       "        [ 1.        ,  0.13967078, -0.4994283 , ...,  0.        ,\n",
       "          1.        ,  0.        ],\n",
       "        [ 1.        , -0.81697841, -1.03884323, ...,  1.        ,\n",
       "          0.        ,  0.        ],\n",
       "        ..., \n",
       "        [ 0.        , -0.81697841, -0.90498762, ...,  0.        ,\n",
       "          0.        ,  1.        ],\n",
       "        [ 1.        , -0.81697841, -0.86695367, ...,  0.        ,\n",
       "          0.        ,  1.        ],\n",
       "        [ 0.        , -0.81697841,  1.59982383, ...,  0.        ,\n",
       "          0.        ,  1.        ]]),\n",
       " array([ 0.,  1.,  0.,  0.,  0.,  1.,  0.,  0.,  0.,  1.,  0.,  1.,  1.,\n",
       "         1.,  0.,  0.,  0.,  0.,  1.,  0.,  0.,  0.,  1.,  1.,  0.,  0.,\n",
       "         1.,  1.,  0.,  1.,  0.,  1.,  0.,  1.,  0.,  0.,  1.,  1.,  1.,\n",
       "         1.,  0.,  0.,  1.,  1.,  0.,  0.,  1.,  0.,  0.,  1.,  1.,  1.,\n",
       "         1.,  1.,  0.,  0.,  0.,  0.,  0.,  0.,  1.,  0.,  0.,  0.,  0.,\n",
       "         0.,  0.,  0.,  0.,  0.,  0.,  1.,  1.,  1.,  0.,  0.,  0.,  0.,\n",
       "         1.,  0.,  1.,  0.,  0.,  1.,  0.,  1.,  0.,  0.,  1.,  0.,  0.,\n",
       "         1.,  0.,  0.,  1.,  0.,  1.,  1.,  0.,  0.,  0.,  0.,  0.,  1.,\n",
       "         0.,  1.,  0.,  0.,  0.,  0.,  0.,  0.,  0.,  1.,  1.,  0.,  0.,\n",
       "         0.,  0.,  0.,  1.,  1.,  1.,  0.,  0.,  1.,  1.,  0.,  0.,  0.,\n",
       "         0.,  0.,  0.,  0.,  1.,  0.,  1.,  0.,  0.,  0.,  0.,  1.,  0.,\n",
       "         1.,  1.,  0.,  1.,  0.,  0.,  0.,  0.,  0.,  1.,  0.,  0.,  0.,\n",
       "         0.,  1.,  0.,  0.,  0.,  0.,  1.,  0.,  1.,  0.,  0.,  0.,  0.,\n",
       "         1.,  1.,  1.,  0.,  1.,  1.,  1.,  0.,  1.,  0.,  1.,  1.,  1.,\n",
       "         0.,  0.,  0.,  0.,  0.,  1.,  0.,  1.,  1.,  0.,  0.,  1.,  0.,\n",
       "         0.,  0.,  1.,  1.,  0.,  0.,  0.,  0.,  1.,  0.,  0.,  0.,  0.,\n",
       "         0.,  0.,  1.,  0.,  0.,  1.,  0.,  1.,  0.,  0.,  0.,  1.,  0.,\n",
       "         0.,  0.,  1.,  0.,  0.,  1.,  0.,  1.,  0.,  1.,  0.,  0.,  1.,\n",
       "         0.,  1.,  1.,  0.,  1.,  1.,  0.,  0.,  1.,  0.,  0.,  0.,  0.,\n",
       "         1.,  1.,  1.,  1.,  1.,  1.,  1.,  1.,  0.,  0.,  0.,  0.,  1.,\n",
       "         1.,  0.,  1.,  1.,  0.,  0.,  0.,  0.,  1.,  0.,  0.,  1.,  0.,\n",
       "         0.,  0.,  0.,  1.,  0.,  1.,  0.,  0.,  1.,  1.,  1.,  0.,  0.,\n",
       "         0.,  0.,  1.,  1.,  1.,  0.,  0.,  0.,  1.,  0.,  1.,  1.,  0.,\n",
       "         0.,  0.,  0.,  0.,  0.,  0.,  0.,  1.,  1.,  1.,  1.,  0.,  1.,\n",
       "         0.,  0.,  0.,  0.,  1.,  0.,  1.,  1.,  0.,  1.,  0.,  1.,  0.,\n",
       "         0.,  1.,  0.,  1.,  0.,  0.,  1.,  0.,  0.,  0.,  0.,  1.,  0.,\n",
       "         0.,  0.,  1.,  0.,  1.,  0.,  0.,  0.,  0.,  0.,  1.,  0.,  0.,\n",
       "         0.,  0.,  0.,  0.,  0.,  0.,  1.,  0.,  1.,  1.,  0.,  1.,  0.,\n",
       "         0.,  0.,  1.,  0.,  0.,  0.,  0.,  1.,  1.,  1.,  0.,  1.,  0.,\n",
       "         0.,  0.,  0.,  0.,  0.,  0.,  0.,  0.,  1.,  1.,  1.,  0.,  1.,\n",
       "         1.,  0.,  0.,  0.,  0.,  0.,  0.,  0.]))"
      ]
     },
     "execution_count": 4,
     "metadata": {},
     "output_type": "execute_result"
    }
   ],
   "source": [
    "def get_data():\n",
    "    df = pd.read_csv('ecommerce_data.csv')\n",
    "    data = df.as_matrix()\n",
    "    print df.head()\n",
    "    X = data[:, : -1]\n",
    "    Y = data[:, -1] \n",
    "    \n",
    "    X[:, 1] = (X[:,1] - X[:,1].mean()) / X[:,1].std()\n",
    "    X[:, 2] = (X[:,2] - X[:,2].mean()) / X[:,2].std()\n",
    "    \n",
    "    N, D = X.shape\n",
    "    X2 = np.zeros((N, D+3))\n",
    "    X2[:, : D-1] = X[:, : D-1]\n",
    "    \n",
    "    for n in xrange(N):\n",
    "        t = X[n, D-1]\n",
    "        X2[n, t+ D-1] = 1\n",
    "    \n",
    "    #print X2\n",
    "    \n",
    "    Z = np.zeros((N, 4))\n",
    "    Z[np.arange(N), X[:, D-1].astype(np.int32)] = 1\n",
    "    #print Z\n",
    "    \n",
    "    assert(np.abs(X2[:, -4:] - Z).sum() < 10e-10)\n",
    "    return X2, Y\n",
    "\n",
    "def get_binary_data():\n",
    "    X, Y = get_data()\n",
    "    X2 = X[Y <= 1]\n",
    "    Y2 = Y[Y <= 1]\n",
    "    return X2, Y2\n",
    "\n",
    "get_binary_data()"
   ]
  },
  {
   "cell_type": "code",
   "execution_count": null,
   "metadata": {
    "collapsed": true
   },
   "outputs": [],
   "source": []
  }
 ],
 "metadata": {
  "kernelspec": {
   "display_name": "Python 2",
   "language": "python",
   "name": "python2"
  },
  "language_info": {
   "codemirror_mode": {
    "name": "ipython",
    "version": 2
   },
   "file_extension": ".py",
   "mimetype": "text/x-python",
   "name": "python",
   "nbconvert_exporter": "python",
   "pygments_lexer": "ipython2",
   "version": "2.7.10"
  }
 },
 "nbformat": 4,
 "nbformat_minor": 2
}
