{
 "cells": [
  {
   "cell_type": "code",
   "execution_count": 1,
   "metadata": {
    "collapsed": false
   },
   "outputs": [],
   "source": [
    "import numpy as np\n",
    "import matplotlib.pyplot as plt"
   ]
  },
  {
   "cell_type": "code",
   "execution_count": 2,
   "metadata": {
    "collapsed": true
   },
   "outputs": [],
   "source": [
    "l1_lambda = 0.015\n",
    "\n",
    "def sigmoid(z):\n",
    "    return (1/(1+ np.exp(-z)))\n",
    "\n",
    "def forward(X, W, b):\n",
    "    return sigmoid((X.dot(W) + b))\n",
    "\n",
    "def cross_entropy_cost_with_l1_regularization(T, Y, W):\n",
    "    return -(T * np.log(Y) + (1-T)* np.log(1-Y)).mean() + l1_lambda * np.abs(W).mean()"
   ]
  },
  {
   "cell_type": "code",
   "execution_count": 3,
   "metadata": {
    "collapsed": false
   },
   "outputs": [],
   "source": [
    "N = 50\n",
    "D = 50\n",
    "## Random input between -5 to 5\n",
    "X = 5 * np.random.random((N, D)) - 0.5\n",
    "true_W = np.array([1, 0.5, -0.5] + [0] * (D -3))\n",
    "b = 0\n",
    "T = np.round(forward(X, true_W, b) + 0.5 * np.random.randn(N))\n",
    "#print T\n",
    "learning_rate = 0.001\n",
    "costs = []\n",
    "W = np.random.randn(D) / np.sqrt(D)\n",
    "\n",
    "for i in xrange(5000):\n",
    "    Y = forward(X, W, b)\n",
    "    W -= learning_rate * X.T.dot(Y - T) + l1_lambda * np.sign(W)\n",
    "    cost = -learning_rate * X.T.dot(Y - T).mean() + l1_lambda * np.abs(W).mean()\n",
    "    costs.append(cost)\n",
    "    \n",
    "#plt.plot(costs)\n",
    "#plt.show()\n",
    "\n",
    "plt.plot(true_W, label=\"True Weights\")\n",
    "plt.plot(W, label=\"Final weights\")\n",
    "plt.show()\n"
   ]
  },
  {
   "cell_type": "code",
   "execution_count": null,
   "metadata": {
    "collapsed": true
   },
   "outputs": [],
   "source": []
  }
 ],
 "metadata": {
  "kernelspec": {
   "display_name": "Python 2",
   "language": "python",
   "name": "python2"
  },
  "language_info": {
   "codemirror_mode": {
    "name": "ipython",
    "version": 2
   },
   "file_extension": ".py",
   "mimetype": "text/x-python",
   "name": "python",
   "nbconvert_exporter": "python",
   "pygments_lexer": "ipython2",
   "version": "2.7.10"
  }
 },
 "nbformat": 4,
 "nbformat_minor": 2
}
