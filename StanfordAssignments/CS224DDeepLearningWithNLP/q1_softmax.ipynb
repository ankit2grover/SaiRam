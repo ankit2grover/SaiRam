{
 "cells": [
  {
   "cell_type": "code",
   "execution_count": 1,
   "metadata": {
    "collapsed": true
   },
   "outputs": [],
   "source": [
    "import numpy as np\n",
    "def softmax(x):\n",
    "    if x.ndim == 1:\n",
    "        x -= np.min(x)\n",
    "        x = np.exp(x)\n",
    "        x /= np.sum(x)\n",
    "    else:\n",
    "        x -= np.min(x, axis = 1, keepdims = True)\n",
    "        x = np.exp(x)\n",
    "        x /= np.sum(x, axis = 1, keepdims = True)\n",
    "    return x"
   ]
  },
  {
   "cell_type": "code",
   "execution_count": 2,
   "metadata": {
    "collapsed": false
   },
   "outputs": [
    {
     "name": "stdout",
     "output_type": "stream",
     "text": [
      "[ 0.04201007  0.1141952   0.84379473]\n",
      "[[ 0.04201007  0.1141952   0.84379473]\n",
      " [ 0.04201007  0.1141952   0.84379473]]\n"
     ]
    }
   ],
   "source": [
    "a = np.array([2,3,5])\n",
    "a = softmax(a)\n",
    "print a\n",
    "\n",
    "a = np.array([[2,3,5], [1,2,4]])\n",
    "a = softmax(a)\n",
    "print a"
   ]
  },
  {
   "cell_type": "code",
   "execution_count": null,
   "metadata": {
    "collapsed": true
   },
   "outputs": [],
   "source": []
  }
 ],
 "metadata": {
  "kernelspec": {
   "display_name": "Python 2",
   "language": "python",
   "name": "python2"
  },
  "language_info": {
   "codemirror_mode": {
    "name": "ipython",
    "version": 2
   },
   "file_extension": ".py",
   "mimetype": "text/x-python",
   "name": "python",
   "nbconvert_exporter": "python",
   "pygments_lexer": "ipython2",
   "version": "2.7.10"
  }
 },
 "nbformat": 4,
 "nbformat_minor": 2
}
